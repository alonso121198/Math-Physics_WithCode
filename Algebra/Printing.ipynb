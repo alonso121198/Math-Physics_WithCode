{
 "cells": [
  {
   "cell_type": "markdown",
   "metadata": {},
   "source": [
    "Hay varias impresoras disponibles en **Symply** . Las mas comunes son :\n",
    "- str\n",
    "- srepr\n",
    "- ASCII pretty printer\n",
    "- Unicode pretty printer\n",
    "- LaTex\n",
    "- MathML\n",
    "- Dot"
   ]
  },
  {
   "cell_type": "markdown",
   "metadata": {},
   "source": [
    "Veamos el primer ejemplo. "
   ]
  },
  {
   "cell_type": "code",
   "execution_count": 15,
   "metadata": {},
   "outputs": [
    {
     "data": {
      "image/png": "[encoded data removed]",
      "text/latex": [
       "$\\displaystyle \\int x^{2} y\\, dx$"
      ],
      "text/plain": [
       "⌠        \n",
       "⎮  2     \n",
       "⎮ x ⋅y dx\n",
       "⌡        "
      ]
     },
     "execution_count": 15,
     "metadata": {},
     "output_type": "execute_result"
    }
   ],
   "source": [
    "from sympy import *\n",
    "init_printing(use_unicode=True)\n",
    "x = symbols('x')\n",
    "Integral(x**2*y,x)"
   ]
  },
  {
   "cell_type": "markdown",
   "metadata": {},
   "source": [
    "# Funciones de impresión"
   ]
  },
  {
   "cell_type": "markdown",
   "metadata": {},
   "source": [
    "## str \n",
    "Para obtener la forma de cadena . Es tambien la forma que produce esceibir **print(expr)** . La **str()** forma de una expresion generalmente se verá ecactamente igual a la expresión tal como la ingresaría ."
   ]
  },
  {
   "cell_type": "code",
   "execution_count": 8,
   "metadata": {},
   "outputs": [
    {
     "data": {
      "text/plain": [
       "'Integral(sqrt(1/x), x)'"
      ]
     },
     "execution_count": 8,
     "metadata": {},
     "output_type": "execute_result"
    }
   ],
   "source": [
    "from sympy import *\n",
    "x, y, z = symbols('x y z')\n",
    "str(Integral(sqrt(1/x),x))"
   ]
  },
  {
   "cell_type": "code",
   "execution_count": 9,
   "metadata": {},
   "outputs": [
    {
     "name": "stdout",
     "output_type": "stream",
     "text": [
      "Integral(sqrt(1/x), x)\n"
     ]
    }
   ],
   "source": [
    "print(Integral(sqrt(1/x),x))"
   ]
  },
  {
   "cell_type": "markdown",
   "metadata": {},
   "source": [
    "## srepr\n",
    "Esta diseñada pra mostrar la forma exacta de una expresion . "
   ]
  },
  {
   "cell_type": "code",
   "execution_count": 16,
   "metadata": {},
   "outputs": [
    {
     "data": {
      "text/plain": [
       "\"Integral(Pow(Pow(Symbol('x'), Integer(-1)), Rational(1, 2)), Tuple(Symbol('x')))\""
      ]
     },
     "execution_count": 16,
     "metadata": {},
     "output_type": "execute_result"
    }
   ],
   "source": [
    "srepr(Integral(sqrt(1/x), x))"
   ]
  },
  {
   "cell_type": "markdown",
   "metadata": {},
   "source": [
    "## Impresora ASCII Pretty\n",
    "Si el terminal no es compatible con Unicode, la impresora ASCII se usa de manera predeterminada . "
   ]
  },
  {
   "cell_type": "code",
   "execution_count": 18,
   "metadata": {},
   "outputs": [
    {
     "name": "stdout",
     "output_type": "stream",
     "text": [
      "  /          \n",
      " |           \n",
      " |     ___   \n",
      " |    / 1    \n",
      " |   /  -  dx\n",
      " | \\/   x    \n",
      " |           \n",
      "/            \n"
     ]
    }
   ],
   "source": [
    "pprint(Integral(sqrt(1/x), x), use_unicode=False)"
   ]
  },
  {
   "cell_type": "code",
   "execution_count": 19,
   "metadata": {},
   "outputs": [
    {
     "data": {
      "text/plain": [
       "'  /          \\n |           \\n |     ___   \\n |    / 1    \\n |   /  -  dx\\n | \\\\/   x    \\n |           \\n/            '"
      ]
     },
     "execution_count": 19,
     "metadata": {},
     "output_type": "execute_result"
    }
   ],
   "source": [
    "# El formulario de cadena\n",
    "pretty(Integral(sqrt(1/x),x), use_unicode=False)"
   ]
  },
  {
   "cell_type": "markdown",
   "metadata": {},
   "source": [
    "# Latex"
   ]
  },
  {
   "cell_type": "code",
   "execution_count": 22,
   "metadata": {},
   "outputs": [
    {
     "name": "stdout",
     "output_type": "stream",
     "text": [
      "\\int \\sqrt{\\frac{1}{x}}\\, dx\n"
     ]
    }
   ],
   "source": [
    "print(latex(Integral(sqrt(1/x), x)))"
   ]
  },
  {
   "cell_type": "markdown",
   "metadata": {},
   "source": [
    "# MathMl"
   ]
  },
  {
   "cell_type": "code",
   "execution_count": 23,
   "metadata": {},
   "outputs": [
    {
     "name": "stdout",
     "output_type": "stream",
     "text": [
      "<apply>\n",
      "\t<int/>\n",
      "\t<bvar>\n",
      "\t\t<ci>x</ci>\n",
      "\t</bvar>\n",
      "\t<apply>\n",
      "\t\t<root/>\n",
      "\t\t<apply>\n",
      "\t\t\t<power/>\n",
      "\t\t\t<ci>x</ci>\n",
      "\t\t\t<cn>-1</cn>\n",
      "\t\t</apply>\n",
      "\t</apply>\n",
      "</apply>\n",
      "\n"
     ]
    }
   ],
   "source": [
    "from sympy.printing.mathml import print_mathml\n",
    "print_mathml(Integral(sqrt(1/x),x))"
   ]
  }
 ],
 "metadata": {
  "kernelspec": {
   "display_name": "Python 3",
   "language": "python",
   "name": "python3"
  },
  "language_info": {
   "codemirror_mode": {
    "name": "ipython",
    "version": 3
   },
   "file_extension": ".py",
   "mimetype": "text/x-python",
   "name": "python",
   "nbconvert_exporter": "python",
   "pygments_lexer": "ipython3",
   "version": "3.7.6"
  }
 },
 "nbformat": 4,
 "nbformat_minor": 4
}
