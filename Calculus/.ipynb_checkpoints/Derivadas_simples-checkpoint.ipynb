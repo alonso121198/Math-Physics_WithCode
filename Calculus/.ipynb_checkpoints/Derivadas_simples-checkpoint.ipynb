{
 "cells": [
  {
   "cell_type": "markdown",
   "metadata": {},
   "source": [
    "# En este modulo aprenderemos a derivar las funciones simples . "
   ]
  },
  {
   "cell_type": "markdown",
   "metadata": {},
   "source": [
    "Usaremos el paquete **sympy** que resulta mas adecuado para estas tareas simples , supongo que eventualmente aprendere de otro paquete pero este está bien . "
   ]
  },
  {
   "cell_type": "code",
   "execution_count": 1,
   "metadata": {},
   "outputs": [],
   "source": [
    "from sympy import * # cargamos todos los modulos \n",
    "x, y , z = symbols('x y z') # asi decimos que x, y, z se trabajar como simbolos\n",
    "# usaremos esto para indicar que imprimir la salida en Unicode\n",
    "# Podemos imprimir en latex (esta en esas opciones) \n",
    "init_printing(use_unicode=True) "
   ]
  },
  {
   "cell_type": "markdown",
   "metadata": {},
   "source": [
    "# Derivadas\n",
    "Para tomar derivadas usa la funcion diff() . "
   ]
  },
  {
   "cell_type": "code",
   "execution_count": 2,
   "metadata": {},
   "outputs": [
    {
     "data": {
      "image/png": "[encoded data removed]",
      "text/latex": [
       "$\\displaystyle - \\sin{\\left(x \\right)}$"
      ],
      "text/plain": [
       "-sin(x)"
      ]
     },
     "execution_count": 2,
     "metadata": {},
     "output_type": "execute_result"
    }
   ],
   "source": [
    "# derivadas \n",
    "diff(cos(x),x)"
   ]
  },
  {
   "cell_type": "code",
   "execution_count": 5,
   "metadata": {},
   "outputs": [
    {
     "data": {
      "image/png": "[encoded data removed]",
      "text/latex": [
       "$\\displaystyle 6 x e^{3 x^{2}}$"
      ],
      "text/plain": [
       "        2\n",
       "     3⋅x \n",
       "6⋅x⋅ℯ    "
      ]
     },
     "execution_count": 5,
     "metadata": {},
     "output_type": "execute_result"
    }
   ],
   "source": [
    "# la exponecial\n",
    "diff(exp(x**2*3),x)"
   ]
  },
  {
   "cell_type": "markdown",
   "metadata": {},
   "source": [
    "Este puede tomar mas derivadas , es decir en vez de anidar diff puedes hacer eso . "
   ]
  },
  {
   "cell_type": "code",
   "execution_count": 6,
   "metadata": {},
   "outputs": [
    {
     "data": {
      "image/png": "[encoded data removed]",
      "text/latex": [
       "$\\displaystyle 24 x$"
      ],
      "text/plain": [
       "24⋅x"
      ]
     },
     "execution_count": 6,
     "metadata": {},
     "output_type": "execute_result"
    }
   ],
   "source": [
    "# derivamos 4 veces\n",
    "\n",
    "# primera forma\n",
    "diff(x**4, x, x, x)"
   ]
  },
  {
   "cell_type": "code",
   "execution_count": 7,
   "metadata": {},
   "outputs": [
    {
     "data": {
      "image/png": "[encoded data removed]",
      "text/latex": [
       "$\\displaystyle 24 x$"
      ],
      "text/plain": [
       "24⋅x"
      ]
     },
     "execution_count": 7,
     "metadata": {},
     "output_type": "execute_result"
    }
   ],
   "source": [
    "# Segunda forma \n",
    "diff(x**4,x,3)"
   ]
  },
  {
   "cell_type": "markdown",
   "metadata": {},
   "source": [
    "Tambien se puede tomar derivadas conr respecto a muchas variables , hay varias formas de hacer eso pero para ejemplificar visualmente como funciona haremos esta derivada . \n",
    "$$\\dfrac{\\partial^7}{\\partial x\\partial y^2\\partial z^4} e^{x y z} $$"
   ]
  },
  {
   "cell_type": "code",
   "execution_count": 8,
   "metadata": {},
   "outputs": [],
   "source": [
    "# Definimos la funcion a derivar\n",
    "expr = exp(x*y*z)"
   ]
  },
  {
   "cell_type": "code",
   "execution_count": 9,
   "metadata": {},
   "outputs": [
    {
     "data": {
      "image/png": "[encoded data removed]",
      "text/latex": [
       "$\\displaystyle x^{3} y^{2} \\left(x^{3} y^{3} z^{3} + 14 x^{2} y^{2} z^{2} + 52 x y z + 48\\right) e^{x y z}$"
      ],
      "text/plain": [
       " 3  2 ⎛ 3  3  3       2  2  2                ⎞  x⋅y⋅z\n",
       "x ⋅y ⋅⎝x ⋅y ⋅z  + 14⋅x ⋅y ⋅z  + 52⋅x⋅y⋅z + 48⎠⋅ℯ     "
      ]
     },
     "execution_count": 9,
     "metadata": {},
     "output_type": "execute_result"
    }
   ],
   "source": [
    "# primera forma\n",
    "diff(expr,x,y,y,z,z,z,z)"
   ]
  },
  {
   "cell_type": "code",
   "execution_count": 10,
   "metadata": {},
   "outputs": [
    {
     "data": {
      "image/png": "[encoded data removed]",
      "text/latex": [
       "$\\displaystyle x^{3} y^{2} \\left(x^{3} y^{3} z^{3} + 14 x^{2} y^{2} z^{2} + 52 x y z + 48\\right) e^{x y z}$"
      ],
      "text/plain": [
       " 3  2 ⎛ 3  3  3       2  2  2                ⎞  x⋅y⋅z\n",
       "x ⋅y ⋅⎝x ⋅y ⋅z  + 14⋅x ⋅y ⋅z  + 52⋅x⋅y⋅z + 48⎠⋅ℯ     "
      ]
     },
     "execution_count": 10,
     "metadata": {},
     "output_type": "execute_result"
    }
   ],
   "source": [
    "# segunda forma\n",
    "diff(expr,x,y,2,z,4)"
   ]
  },
  {
   "cell_type": "code",
   "execution_count": 11,
   "metadata": {},
   "outputs": [
    {
     "data": {
      "image/png": "[encoded data removed]",
      "text/latex": [
       "$\\displaystyle x^{3} y^{2} \\left(x^{3} y^{3} z^{3} + 14 x^{2} y^{2} z^{2} + 52 x y z + 48\\right) e^{x y z}$"
      ],
      "text/plain": [
       " 3  2 ⎛ 3  3  3       2  2  2                ⎞  x⋅y⋅z\n",
       "x ⋅y ⋅⎝x ⋅y ⋅z  + 14⋅x ⋅y ⋅z  + 52⋅x⋅y⋅z + 48⎠⋅ℯ     "
      ]
     },
     "execution_count": 11,
     "metadata": {},
     "output_type": "execute_result"
    }
   ],
   "source": [
    "# tercera forma , una mezcla entre la primera y la segunda\n",
    "diff(expr,x,y,y,z,4)"
   ]
  },
  {
   "cell_type": "markdown",
   "metadata": {},
   "source": [
    "diff se puede llamar tambien como metodo , me explico con el siguiente ejemplo"
   ]
  },
  {
   "cell_type": "code",
   "execution_count": 12,
   "metadata": {},
   "outputs": [
    {
     "data": {
      "image/png": "[encoded data removed]",
      "text/latex": [
       "$\\displaystyle x^{3} y^{2} \\left(x^{3} y^{3} z^{3} + 14 x^{2} y^{2} z^{2} + 52 x y z + 48\\right) e^{x y z}$"
      ],
      "text/plain": [
       " 3  2 ⎛ 3  3  3       2  2  2                ⎞  x⋅y⋅z\n",
       "x ⋅y ⋅⎝x ⋅y ⋅z  + 14⋅x ⋅y ⋅z  + 52⋅x⋅y⋅z + 48⎠⋅ℯ     "
      ]
     },
     "execution_count": 12,
     "metadata": {},
     "output_type": "execute_result"
    }
   ],
   "source": [
    "expr.diff(x,y,y,z,4) # Te das cuenta que versatil es esta funcion"
   ]
  },
  {
   "cell_type": "markdown",
   "metadata": {},
   "source": [
    "Si quieres crear como variables no evaluados a las funciones que derivas , lo puedes hacer con la clase **Derivative**"
   ]
  },
  {
   "cell_type": "code",
   "execution_count": 17,
   "metadata": {},
   "outputs": [
    {
     "data": {
      "image/png": "[encoded data removed]",
      "text/latex": [
       "$\\displaystyle \\frac{\\partial^{7}}{\\partial z^{4}\\partial y^{2}\\partial x} e^{x y z}$"
      ],
      "text/plain": [
       "     7            \n",
       "    ∂     ⎛ x⋅y⋅z⎞\n",
       "──────────⎝ℯ     ⎠\n",
       "  4   2           \n",
       "∂z  ∂y  ∂x        "
      ]
     },
     "execution_count": 17,
     "metadata": {},
     "output_type": "execute_result"
    }
   ],
   "source": [
    "deriv = Derivative(expr,x,y,y,z,4)\n",
    "# fijate que no esta evaluado \n",
    "deriv"
   ]
  },
  {
   "cell_type": "markdown",
   "metadata": {},
   "source": [
    "Esto sera util en ecuaciones diferenciales . Esta variable no evaluada la puedes evaluar de la siguiente manera"
   ]
  },
  {
   "cell_type": "code",
   "execution_count": 18,
   "metadata": {},
   "outputs": [
    {
     "data": {
      "image/png": "[encoded data removed]",
      "text/latex": [
       "$\\displaystyle x^{3} y^{2} \\left(x^{3} y^{3} z^{3} + 14 x^{2} y^{2} z^{2} + 52 x y z + 48\\right) e^{x y z}$"
      ],
      "text/plain": [
       " 3  2 ⎛ 3  3  3       2  2  2                ⎞  x⋅y⋅z\n",
       "x ⋅y ⋅⎝x ⋅y ⋅z  + 14⋅x ⋅y ⋅z  + 52⋅x⋅y⋅z + 48⎠⋅ℯ     "
      ]
     },
     "execution_count": 18,
     "metadata": {},
     "output_type": "execute_result"
    }
   ],
   "source": [
    "# evaluando la derivada\n",
    "deriv.doit()"
   ]
  },
  {
   "cell_type": "markdown",
   "metadata": {},
   "source": [
    "Las derivadas de orden no especificado o especificado las puedes hacer creando una tupla (x,n) donde **n** es el orden de la derivada con respecto a **x**"
   ]
  },
  {
   "cell_type": "code",
   "execution_count": 26,
   "metadata": {},
   "outputs": [
    {
     "data": {
      "image/png": "[encoded data removed]",
      "text/latex": [
       "$\\displaystyle \\frac{\\partial^{n}}{\\partial x^{n}} \\left(a x + b\\right)^{m}$"
      ],
      "text/plain": [
       "  n            \n",
       " ∂ ⎛         m⎞\n",
       "───⎝(a⋅x + b) ⎠\n",
       "  n            \n",
       "∂x             "
      ]
     },
     "execution_count": 26,
     "metadata": {},
     "output_type": "execute_result"
    }
   ],
   "source": [
    "m, n, a, b = symbols('m n a b')\n",
    "expr = (a*x+b)**m\n",
    "# fijate que introduje una tupla , diciendo que derivare respecto a x  n veces\n",
    "expr.diff((x,n))\n",
    "# intenta quitarle los parentesis para que veas \n",
    "# prueva cambiar n = 3 y ve la magia"
   ]
  }
 ],
 "metadata": {
  "kernelspec": {
   "display_name": "Python 3",
   "language": "python",
   "name": "python3"
  },
  "language_info": {
   "codemirror_mode": {
    "name": "ipython",
    "version": 3
   },
   "file_extension": ".py",
   "mimetype": "text/x-python",
   "name": "python",
   "nbconvert_exporter": "python",
   "pygments_lexer": "ipython3",
   "version": "3.7.6"
  }
 },
 "nbformat": 4,
 "nbformat_minor": 4
}
