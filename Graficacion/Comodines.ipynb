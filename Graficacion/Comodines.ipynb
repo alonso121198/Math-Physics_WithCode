{
 "cells": [
  {
   "cell_type": "markdown",
   "metadata": {},
   "source": [
    "# textplot( expr, a, b, W=55, H=18)\n",
    "Imprima una trama de arte ASCII cruda "
   ]
  },
  {
   "cell_type": "code",
   "execution_count": 6,
   "metadata": {},
   "outputs": [
    {
     "name": "stdout",
     "output_type": "stream",
     "text": [
      "0.99907 |          .....                                         \n",
      "        |        ..     ..                                     ..\n",
      "        |       /         \\                                  ..  \n",
      "        |      /           ..                               /    \n",
      "        |     /              \\                             /     \n",
      "        |    /                .                           /      \n",
      "        |   /                                            .       \n",
      "        |  /                   .                                 \n",
      "0.05835 | /---------------------\\-----------------------.--------\n",
      "        |                        \\                     /         \n",
      "        |                         \\                   /          \n",
      "        |                          \\                 /           \n",
      "        |                           \\               /            \n",
      "        |                            \\             /             \n",
      "        |                             \\           /              \n",
      "        |                              \\         /               \n",
      "        |                               ..     ..                \n",
      "-0.9999 |                                 .....                  \n",
      "          0                          7.5                        15\n"
     ]
    }
   ],
   "source": [
    "from sympy import Symbol, sin\n",
    "from sympy.plotting import textplot\n",
    "t = Symbol('t')\n",
    "textplot(sin(t/2),0,15)"
   ]
  }
 ],
 "metadata": {
  "kernelspec": {
   "display_name": "Python 3",
   "language": "python",
   "name": "python3"
  },
  "language_info": {
   "codemirror_mode": {
    "name": "ipython",
    "version": 3
   },
   "file_extension": ".py",
   "mimetype": "text/x-python",
   "name": "python",
   "nbconvert_exporter": "python",
   "pygments_lexer": "ipython3",
   "version": "3.7.6"
  }
 },
 "nbformat": 4,
 "nbformat_minor": 4
}
