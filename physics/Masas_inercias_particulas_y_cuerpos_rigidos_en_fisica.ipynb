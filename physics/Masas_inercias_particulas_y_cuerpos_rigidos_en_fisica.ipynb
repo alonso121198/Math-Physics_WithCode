{
 "cells": [
  {
   "cell_type": "markdown",
   "metadata": {},
   "source": [
    "Usaremos el paquete sympy en especifico **sympy.physics.mechanics** y el uso de clases **RigidBody** y **Particle**."
   ]
  },
  {
   "cell_type": "markdown",
   "metadata": {},
   "source": [
    "# Particle\n",
    "Para las particulas usaremos una clase llamada **Particle** . Este objeto tiene un punto asociado y una masa asociada que son los únicos dos atributos del objeto"
   ]
  },
  {
   "cell_type": "code",
   "execution_count": 2,
   "metadata": {},
   "outputs": [],
   "source": [
    "from sympy.physics.mechanics import Particle, Point # las dos clases\n",
    "from sympy import Symbol # esto para manejar la masa\n",
    "'''\n",
    "El único requisito para una masa es que debe ser una sympifyexpresión \n",
    "habilitable. Tenga en cuenta que las masas pueden variar en el tiempo.\n",
    "'''\n",
    "m = Symbol('m') \n",
    "po = Point('po') # el punto\n",
    "# creamos una particula con masa \"m\" y ubicada en \"po\"\n",
    "pa = Particle('pa', po, m)\n",
    "'''\n",
    "El punto asociado contiene la posicion , velocidad y aceleracion de la \n",
    "particlula . Podemos hacer un analisis cinematico de puntos separados de \n",
    "'''"
   ]
  },
  {
   "cell_type": "markdown",
   "metadata": {},
   "source": [
    "# Cuerpo rigido\n",
    "La clase **RigidBody** genera objetos con 4 atributos : masa , centro de masa , un marco de referencia y una tupla de inercia . "
   ]
  },
  {
   "cell_type": "code",
   "execution_count": 3,
   "metadata": {},
   "outputs": [],
   "source": [
    "from sympy import Symbol # unclasico\n",
    "from sympy.physics.mechanics import ReferenceFrame, Point, RigidBody # # clases\n",
    "from sympy.physics.mechanics import outer # aun estoy viendo para que es esto\n",
    "m = Symbol('m') # la masa del objeto\n",
    "A = ReferenceFrame('A') # el sistema de referencia\n",
    "P = Point('P') # el punto del centro de masa\n",
    "I = outer(A.x, A.x) # La tupla de incercia que aun se me hace extraña \n",
    "# creamos un cuerpo rigido \n",
    "B = RigidBody('B', P , A , m, (I,P))"
   ]
  },
  {
   "cell_type": "markdown",
   "metadata": {},
   "source": [
    "# Funciones Momentaneas \n",
    "- Momento lineal $L_p = mv$\n",
    "- Momento Angular $^NH^{P/O}=rx mV $"
   ]
  },
  {
   "cell_type": "code",
   "execution_count": 28,
   "metadata": {
    "scrolled": true
   },
   "outputs": [
    {
     "data": {
      "text/latex": [
       "$\\displaystyle l_{1} N\\mathbf{\\hat{n}_y}$"
      ],
      "text/plain": [
       "l1*N*N.y"
      ]
     },
     "execution_count": 28,
     "metadata": {},
     "output_type": "execute_result"
    }
   ],
   "source": [
    "from sympy import symbols\n",
    "from sympy.physics.mechanics import dynamicsymbols, ReferenceFrame \n",
    "from sympy.physics.mechanics import RigidBody, Particle, Point, outer # Atributos importante\n",
    "from sympy.physics.mechanics import linear_momentum, angular_momentum\n",
    "m, M, l1 = symbols('m M l1') #la masa de la particula , cuerpo rigido y \n",
    "q1d = dynamicsymbols('N') # variable dinamica de la particula\n",
    "N = ReferenceFrame('N') # sistema de referencia \n",
    "O = Point('O') # punto de la particula\n",
    "# establece la velocidad (frame , value(vector_velocidad))\n",
    "O.set_vel(N, 0 * N.x)\n",
    "# Crea un nuevo putno con respecto a la posicion definida desde ese punto \n",
    "Ac = O.locatenew('Ac', l1 * N.x)  # (nombre, vector(posicion_del_new_point_respect)\n",
    "P = Ac.locatenew('P',l1*N.x)\n",
    "a = ReferenceFrame('a') # Segundo sistema de referencia\n",
    "\n",
    "# Define la velocidad angular en un sistema de referencia \n",
    "a.set_ang_vel(N, q1d* N.z) # (un sistema_de_referencia, el vector que representa)\n",
    "\n",
    "# Establece la velocidad de ese punto con otro dos puntos teoricos \n",
    "Ac.v2pt_theory(O, N, a)  # (Point, ReferenceFrame, Refe)"
   ]
  },
  {
   "cell_type": "code",
   "execution_count": 29,
   "metadata": {},
   "outputs": [
    {
     "data": {
      "text/latex": [
       "$\\displaystyle 2 l_{1} N\\mathbf{\\hat{n}_y}$"
      ],
      "text/plain": [
       "2*l1*N*N.y"
      ]
     },
     "execution_count": 29,
     "metadata": {},
     "output_type": "execute_result"
    }
   ],
   "source": [
    "P.v2pt_theory(O, N, a)"
   ]
  },
  {
   "cell_type": "code",
   "execution_count": 31,
   "metadata": {},
   "outputs": [],
   "source": [
    "Pa = Particle('Pa', P, m)\n",
    "I = outer(N.z, N.z)\n",
    "A = RigidBody('A', Ac, a, M, (I, Ac))"
   ]
  },
  {
   "cell_type": "code",
   "execution_count": 32,
   "metadata": {},
   "outputs": [
    {
     "data": {
      "text/latex": [
       "$\\displaystyle M l_{1} N\\mathbf{\\hat{n}_y}$"
      ],
      "text/plain": [
       "M*l1*N*N.y"
      ]
     },
     "execution_count": 32,
     "metadata": {},
     "output_type": "execute_result"
    }
   ],
   "source": [
    "linear_momentum(N,A)"
   ]
  },
  {
   "cell_type": "code",
   "execution_count": 33,
   "metadata": {},
   "outputs": [
    {
     "data": {
      "text/latex": [
       "$\\displaystyle 4 l_{1}^{2} m N\\mathbf{\\hat{n}_z}$"
      ],
      "text/plain": [
       "4*l1**2*m*N*N.z"
      ]
     },
     "execution_count": 33,
     "metadata": {},
     "output_type": "execute_result"
    }
   ],
   "source": [
    "angular_momentum(O,N,Pa)"
   ]
  },
  {
   "cell_type": "code",
   "execution_count": 37,
   "metadata": {},
   "outputs": [
    {
     "data": {
      "text/latex": [
       "$\\displaystyle (M l_{1} N + 2 l_{1} m N)\\mathbf{\\hat{n}_y}$"
      ],
      "text/plain": [
       "(M*l1*N + 2*l1*m*N)*N.y"
      ]
     },
     "execution_count": 37,
     "metadata": {},
     "output_type": "execute_result"
    }
   ],
   "source": [
    "linear_momentum(N,A,Pa)"
   ]
  },
  {
   "cell_type": "code",
   "execution_count": 38,
   "metadata": {},
   "outputs": [
    {
     "data": {
      "text/latex": [
       "$\\displaystyle (M l_{1}^{2} N + 4 l_{1}^{2} m N + N)\\mathbf{\\hat{n}_z}$"
      ],
      "text/plain": [
       "(M*l1**2*N + 4*l1**2*m*N + N)*N.z"
      ]
     },
     "execution_count": 38,
     "metadata": {},
     "output_type": "execute_result"
    }
   ],
   "source": [
    "angular_momentum(O,N , A, Pa)"
   ]
  },
  {
   "cell_type": "code",
   "execution_count": null,
   "metadata": {},
   "outputs": [],
   "source": []
  },
  {
   "cell_type": "markdown",
   "metadata": {},
   "source": [
    "# Pendiente aprender el modulo sympy.physics.vec"
   ]
  },
  {
   "cell_type": "code",
   "execution_count": 30,
   "metadata": {},
   "outputs": [
    {
     "data": {
      "text/latex": [
       "$\\displaystyle N{\\left(t \\right)}$"
      ],
      "text/plain": [
       "N(t)"
      ]
     },
     "execution_count": 30,
     "metadata": {},
     "output_type": "execute_result"
    }
   ],
   "source": []
  },
  {
   "cell_type": "code",
   "execution_count": null,
   "metadata": {},
   "outputs": [],
   "source": []
  },
  {
   "cell_type": "code",
   "execution_count": null,
   "metadata": {},
   "outputs": [],
   "source": []
  },
  {
   "cell_type": "code",
   "execution_count": null,
   "metadata": {},
   "outputs": [],
   "source": []
  },
  {
   "cell_type": "code",
   "execution_count": null,
   "metadata": {},
   "outputs": [],
   "source": []
  },
  {
   "cell_type": "code",
   "execution_count": null,
   "metadata": {},
   "outputs": [],
   "source": []
  },
  {
   "cell_type": "code",
   "execution_count": null,
   "metadata": {},
   "outputs": [],
   "source": []
  },
  {
   "cell_type": "code",
   "execution_count": null,
   "metadata": {},
   "outputs": [],
   "source": []
  },
  {
   "cell_type": "code",
   "execution_count": null,
   "metadata": {},
   "outputs": [],
   "source": []
  },
  {
   "cell_type": "code",
   "execution_count": null,
   "metadata": {},
   "outputs": [],
   "source": []
  },
  {
   "cell_type": "code",
   "execution_count": null,
   "metadata": {},
   "outputs": [],
   "source": []
  },
  {
   "cell_type": "code",
   "execution_count": null,
   "metadata": {},
   "outputs": [],
   "source": []
  },
  {
   "cell_type": "code",
   "execution_count": null,
   "metadata": {},
   "outputs": [],
   "source": []
  },
  {
   "cell_type": "code",
   "execution_count": null,
   "metadata": {},
   "outputs": [],
   "source": []
  },
  {
   "cell_type": "code",
   "execution_count": null,
   "metadata": {},
   "outputs": [],
   "source": []
  },
  {
   "cell_type": "code",
   "execution_count": null,
   "metadata": {},
   "outputs": [],
   "source": []
  },
  {
   "cell_type": "code",
   "execution_count": null,
   "metadata": {},
   "outputs": [],
   "source": []
  },
  {
   "cell_type": "code",
   "execution_count": null,
   "metadata": {},
   "outputs": [],
   "source": []
  },
  {
   "cell_type": "code",
   "execution_count": null,
   "metadata": {},
   "outputs": [],
   "source": []
  }
 ],
 "metadata": {
  "kernelspec": {
   "display_name": "Python 3",
   "language": "python",
   "name": "python3"
  },
  "language_info": {
   "codemirror_mode": {
    "name": "ipython",
    "version": 3
   },
   "file_extension": ".py",
   "mimetype": "text/x-python",
   "name": "python",
   "nbconvert_exporter": "python",
   "pygments_lexer": "ipython3",
   "version": "3.7.6"
  }
 },
 "nbformat": 4,
 "nbformat_minor": 4
}
